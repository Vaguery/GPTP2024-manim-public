{
 "cells": [
  {
   "cell_type": "markdown",
   "metadata": {},
   "source": [
    "# Pushlike interpreter animation\n",
    "\n",
    "This notebook makes three brief ManimCE animations, each showing a single tree (and all of them are trees) being processed by a little animated interpreter. Everything should run in a Jupyter notebook, as far as I'm aware. Most of the tree-manipulating stuff is called from the `pushTrees.py` module.\n",
    "\n",
    "**Note** These animations mainly use hand-coded trees and languages. There's a larger `defaultLanguage` defined in `pushTrees.py`, but for various reasons I decided to use a smaller, locally-defined language in the first two of the animations.\n",
    "\n",
    "## EagerInterpreterAnimation\n",
    "\n",
    "In the first scene, the interpreter is \"eager\", in the sense that the functions, when interpreted, produce explicit numerical results. The functions used to calculate those results are encoded in the `explicitCalculationLanguage` structure defined in the scene class. In the event you want to change this, realize it's a relatively fragile process with no strong validation:\n",
    "\n",
    "- every instruction needs to exist as a key in the language\n",
    "- the \"needs\" list is an ordered collection of string names of stacks from which the arguments are pulled\n",
    "- the \"products\" list contains items that really want to be objects, with a \"stack\" target to which each result should be sent, and a \"symbolic\" value which creates the PushItem result explicitly\n",
    "- note that the argument order is important for non-commutative functions; check `:sub` and `:div` if you want to understand the trick\n",
    "\n",
    "## LazyInterpreterAnimation\n",
    "\n",
    "The same tree is hard-coded, but the language has been changed to allow lazy evaluation. Note that the results of lookup create a new node with a `done` flag set.\n",
    "\n",
    "## LazyMultitypeInterpreter\n",
    "\n",
    "Honestly just a big proof of concept. In this case, the language used is the default, which is defined in `pushTrees.py`.\n",
    "\n"
   ]
  },
  {
   "cell_type": "code",
   "execution_count": 8,
   "metadata": {},
   "outputs": [],
   "source": [
    "import sys\n",
    "sys.path.append('..')\n",
    "\n",
    "from manim import *\n",
    "from pushTrees import *\n",
    "from random import shuffle\n",
    "import copy"
   ]
  },
  {
   "cell_type": "code",
   "execution_count": 4,
   "metadata": {},
   "outputs": [
    {
     "data": {
      "text/html": [
       "<pre style=\"white-space:pre;overflow-x:auto;line-height:normal;font-family:Menlo,'DejaVu Sans Mono',consolas,'Courier New',monospace\">Manim Community <span style=\"color: #008000; text-decoration-color: #008000\">v0.18.1</span>\n",
       "\n",
       "</pre>\n"
      ],
      "text/plain": [
       "Manim Community \u001b[32mv0.\u001b[0m\u001b[32m18.1\u001b[0m\n",
       "\n"
      ]
     },
     "metadata": {},
     "output_type": "display_data"
    },
    {
     "name": "stderr",
     "output_type": "stream",
     "text": [
      "                                                                                                                                                                    \r"
     ]
    },
    {
     "data": {
      "text/html": [
       "<video src=\"media/jupyter/EagerInterpreterAnimation@2024-08-01@12-16-58.mp4\" controls autoplay loop style=\"max-width: 60%;\"  >\n",
       "      Your browser does not support the <code>video</code> element.\n",
       "    </video>"
      ],
      "text/plain": [
       "<IPython.core.display.Video object>"
      ]
     },
     "metadata": {},
     "output_type": "display_data"
    }
   ],
   "source": [
    "%%manim -qm -v WARNING EagerInterpreterAnimation\n",
    "## this is the ManimCE \"magic line\", which invokes Manim on the class below when it's invoked; \n",
    "# note the `-qm` arg sets medium quality, for faster rendering\n",
    "\n",
    "class EagerInterpreterAnimation(Scene):\n",
    "    def construct(self):\n",
    "        myItems = [[[[\":x2\", \":k1\", \":sub\"], \":x1\", \":mul\"], \":x2\", \":sub\"], [\":x1\", \":k2\", \":mul\"], \":div\"]\n",
    "\n",
    "        explicitCalculationLanguage =  {\n",
    "            \":x1\":{\n",
    "                \"needs\":[],\n",
    "                \"products\":\n",
    "                    [{\"stack\":\"number\", \n",
    "                        \"symbolic\": lambda:PushItem(\"19.64\", type=\"number\", done = False)}]},\n",
    "            \":x2\":{\n",
    "                \"needs\":[],\n",
    "                \"products\":\n",
    "                    [{\"stack\":\"number\", \n",
    "                        \"symbolic\": lambda:PushItem(\"-3.14159\", type=\"number\", done = False)}]},\n",
    "            \":k1\":{\n",
    "                \"needs\":[],\n",
    "                \"products\":\n",
    "                    [{\"stack\":\"number\", \n",
    "                        \"symbolic\": lambda:PushItem(str(3/7), type=\"number\", done = False)}]},\n",
    "            \":k2\":{\n",
    "                \"needs\":[],\n",
    "                \"products\":\n",
    "                    [{\"stack\":\"number\", \n",
    "                        \"symbolic\": lambda:PushItem(str(2/11), type=\"number\", done = False)}]},\n",
    "            \":sub\":{\n",
    "                \"needs\":[\"number\",\"number\"],\n",
    "                \"products\":\n",
    "                    [{\"stack\":\"number\",\n",
    "                        \"symbolic\": lambda x,y : PushItem(\"{}\".format(float(y.value) - float(x.value)), done = False, type=\"number\")}]},\n",
    "            \":mul\":{\n",
    "                \"needs\":[\"number\",\"number\"],\n",
    "                \"products\":\n",
    "                    [{\"stack\":\"number\",\n",
    "                        \"symbolic\": lambda x,y : PushItem(\"{}\".format(float(y.value) * float(x.value)), done = False, type=\"number\")}]},\n",
    "            \":div\":{\n",
    "                \"needs\":[\"number\",\"number\"],\n",
    "                \"products\":\n",
    "                    [{\"stack\":\"number\",\n",
    "                        \"symbolic\": lambda x,y : PushItem(\"{}\".format(float(y.value) / float(x.value)), done = False, type=\"number\")}]},\n",
    "            }\n",
    "        \n",
    "        ## titles\n",
    "        explanationTitle = VGroup(\n",
    "            MarkupText(\"An Eager Interpreter\", font=\"Didot\", slant=ITALIC, font_size=64),\n",
    "            MarkupText(\"just working out the answer\", font=\"Didot\", slant=NORMAL, font_size=36),\n",
    "            )\n",
    "        explanationTitle.arrange(DOWN, buff=0.5)\n",
    "        self.play(Create(explanationTitle), run_time=2)\n",
    "        self.wait(5)\n",
    "        self.play(FadeOut(explanationTitle),run_time=2)\n",
    "        self.wait()\n",
    "\n",
    "        ## various settings for interpreter scene\n",
    "        \n",
    "        # set this to continue set-aside tokens when :exec is empty, but just once\n",
    "        retainUnusedTokens = False \n",
    "        # constructs the stack Mobjects needed (plus optional \"unused\" stack at right)\n",
    "        stacks = createEmptyStacks([\"exec\", \"number\"], retainUnusedTokens)\n",
    "        # screen area used for token processing & function application\n",
    "        workbench = defaultWorkbench\n",
    "        # the language defined above, in this case\n",
    "        language = explicitCalculationLanguage\n",
    "        \n",
    "        ## begin animation\n",
    "\n",
    "        # text Mobject holding the assignments, displayed upper left\n",
    "        # (the numerical assignments themselves are in explicitCalculationLanguage)\n",
    "        assignments = Code(code=\"# assignments\\n:x1 = 19.64\\n:x2 = -3.14159\\n:k1 = 3/7\\n:k2 = 2/11\", \n",
    "                           insert_line_no = False, \n",
    "                           background='rectangle', \n",
    "                           style = \"monokai\",\n",
    "                           language=\"ruby\")\n",
    "        # show the assignments box\n",
    "        self.play(Create(assignments.scale(0.75).move_to(5*LEFT+3*UP)))\n",
    "\n",
    "        # transform the nested array of token strings into a single PushItem \n",
    "        theCode = PushItem(myItems)\n",
    "        # setup\n",
    "        theCode.mobject.move_to(workbench)\n",
    "        # draw the stacks\n",
    "        drawStackStages(self,stacks,retainUnusedTokens)\n",
    "        # expand program as a subtitle\n",
    "        listing = showQuickListing(self,theCode,workbench+DOWN,previewScale=3)\n",
    "        self.wait(2)\n",
    "        self.play(FadeOut(listing))\n",
    "        \n",
    "        # process the PushItem by disassembling (if a codeblock) or looking it up\n",
    "        handleCodeblockInWorkbench(self,stacks,theCode,workbench) \n",
    "        \n",
    "        # recursively work through every item on `:exec` stack\n",
    "        processEveryItem(self,stacks,language,workbench,retainUnusedTokens)\n",
    "        \n",
    "        self.wait(5)\n",
    "        \n",
    "        # grab the top item on the \"number\" stack\n",
    "        result = stacks[\"number\"][\"contents\"][-1]\n",
    "        # move it back to the workbench region\n",
    "        self.play(result.mobject.animate.move_to(workbench).scale_to_fit_height(1),run_time=slowTime)\n",
    "        # label it with the code\n",
    "        quickCaptionUnderTile(self,result,\"final result\")\n",
    "        showQuickListing(self,theCode,workbench+DOWN,previewScale=3)\n",
    "        \n",
    "        self.wait(2)\n",
    "        # we're done\n",
    "        self.play(*[FadeOut(mob)for mob in self.mobjects])\n",
    "\n"
   ]
  },
  {
   "cell_type": "code",
   "execution_count": 5,
   "metadata": {},
   "outputs": [
    {
     "data": {
      "text/html": [
       "<pre style=\"white-space:pre;overflow-x:auto;line-height:normal;font-family:Menlo,'DejaVu Sans Mono',consolas,'Courier New',monospace\">Manim Community <span style=\"color: #008000; text-decoration-color: #008000\">v0.18.1</span>\n",
       "\n",
       "</pre>\n"
      ],
      "text/plain": [
       "Manim Community \u001b[32mv0.\u001b[0m\u001b[32m18.1\u001b[0m\n",
       "\n"
      ]
     },
     "metadata": {},
     "output_type": "display_data"
    },
    {
     "name": "stderr",
     "output_type": "stream",
     "text": [
      "                                                                                                                                                    \r"
     ]
    },
    {
     "data": {
      "text/html": [
       "<video src=\"media/jupyter/LazyInterpreterAnimation@2024-08-01@12-23-28.mp4\" controls autoplay loop style=\"max-width: 60%;\"  >\n",
       "      Your browser does not support the <code>video</code> element.\n",
       "    </video>"
      ],
      "text/plain": [
       "<IPython.core.display.Video object>"
      ]
     },
     "metadata": {},
     "output_type": "display_data"
    }
   ],
   "source": [
    "%%manim -qm -v WARNING LazyInterpreterAnimation\n",
    "## this is the ManimCE \"magic line\", which invokes Manim on the class below when it's invoked; \n",
    "# note the `-qm` arg sets medium quality, for faster rendering\n",
    "\n",
    "class LazyInterpreterAnimation(Scene):\n",
    "    def construct(self):\n",
    "\n",
    "        # specific tree (flattened postfix) to be rendered \n",
    "        myItems = [\":x2\", \":k1\", \":sub\", \":x1\", \":mul\", \":x2\", \":sub\", \":x1\", \":k2\", \":mul\", \":div\"]\n",
    "\n",
    "        # using an explicit definition of the language here, to show how abstract\n",
    "        # assignments are handled\n",
    "        lazyCalculationLanguage =  {\n",
    "            \":x1\":{\n",
    "                \"needs\":[],\n",
    "                \"products\":\n",
    "                    [{\"stack\":\"number\", \n",
    "                        \"symbolic\": lambda: PushItem(\":x1\", type=\"number\", done = True)}]},\n",
    "            \":x2\":{\n",
    "                \"needs\":[],\n",
    "                \"products\":\n",
    "                    [{\"stack\":\"number\", \n",
    "                        \"symbolic\": lambda: PushItem(\":x2\", type=\"number\", done = True)}]},\n",
    "            \":k1\":{\n",
    "                \"needs\":[],\n",
    "                \"products\":\n",
    "                    [{\"stack\":\"number\", \n",
    "                        \"symbolic\": lambda: PushItem(\":k1\", type=\"number\", done = True)}]},\n",
    "            \":k2\":{\n",
    "                \"needs\":[],\n",
    "                \"products\":\n",
    "                    [{\"stack\":\"number\", \n",
    "                        \"symbolic\": lambda: PushItem(\":k2\", type=\"number\", done = True)}]},\n",
    "            \":sub\":{\n",
    "                \"needs\":[\"number\",\"number\"],\n",
    "                \"products\":\n",
    "                    [{\"stack\":\"number\",\n",
    "                        \"symbolic\": lambda x,y : PushItem(\"{} {} :sub\".format(y.value, x.value), done = True, type=\"number\")}]},\n",
    "            \":mul\":{\n",
    "                \"needs\":[\"number\",\"number\"],\n",
    "                \"products\":\n",
    "                    [{\"stack\":\"number\",\n",
    "                        \"symbolic\": lambda x,y : PushItem(\"{} {} :mul\".format(y.value, x.value), done = True, type=\"number\")}]},\n",
    "            \":div\":{\n",
    "                \"needs\":[\"number\",\"number\"],\n",
    "                \"products\":\n",
    "                    [{\"stack\":\"number\",\n",
    "                        \"symbolic\": lambda x,y : PushItem(\"{} {} :div)\".format(y.value, x.value), done = True, type=\"number\")}]},\n",
    "            }\n",
    "        \n",
    "        # set this to True to place functions missing arguments onto \"unused\" stack\n",
    "        retainUnusedTokens = False \n",
    "\n",
    "        # create Mobjects for stack bases\n",
    "        stacks = createEmptyStacks([\"exec\", \"number\"],retainUnusedTokens)\n",
    "\n",
    "        # set default screen location for handling PushItems\n",
    "        workbench = defaultWorkbench\n",
    "\n",
    "        # language defined above\n",
    "        language = lazyCalculationLanguage\n",
    "\n",
    "        ## begin animation\n",
    "\n",
    "        # create assignments Mobject for display\n",
    "        assignments = Code(code=\"# assignments\\n:x1 : Number\\n:x2 : Number\\n:k1 : Number\\n:k2 : Number\", \n",
    "                           insert_line_no = False, \n",
    "                           background='rectangle', \n",
    "                           style = \"monokai\",\n",
    "                           language=\"ruby\")\n",
    "\n",
    "        # show the assignments Mobject, upper left\n",
    "        self.play(Create(assignments.scale(0.75).move_to(5*LEFT+3*UP)))\n",
    "\n",
    "        # create a single PushItem with the whole code block in it\n",
    "        theCode = PushItem(myItems)\n",
    "\n",
    "        # set it in the workbench region\n",
    "        theCode.mobject.move_to(workbench)\n",
    "\n",
    "        # draw the specified stack Mobjects\n",
    "        drawStackStages(self,stacks,retainUnusedTokens)\n",
    "\n",
    "        # caption the PushItem\n",
    "        listing = showQuickListing(self,theCode,workbench+DOWN,previewScale=3)\n",
    "        self.wait(2)\n",
    "        self.play(FadeOut(listing))\n",
    "\n",
    "        # begin processing the PushItem in the workbench region (breaks codeblock into parts)\n",
    "        handleCodeblockInWorkbench(self,stacks,theCode,workbench)\n",
    "\n",
    "        # process every item on \"exec\" stack\n",
    "        processEveryItem(self,stacks,language,workbench,retainUnusedTokens)\n",
    "        self.wait(5)\n",
    "        \n",
    "        # select top item of \"number\" stack\n",
    "        result = stacks[\"number\"][\"contents\"][-1]\n",
    "        \n",
    "        # move it to the workbench\n",
    "        self.play(result.mobject.animate.move_to(workbench).scale_to_fit_height(1),run_time=slowTime)\n",
    "        quickCaptionUnderTile(self,result,\"final result\")\n",
    "        showQuickListing(self,theCode,workbench+DOWN,previewScale=3)\n",
    "        \n",
    "        # we're done\n",
    "        self.wait(2)\n",
    "        self.play(*[FadeOut(mob)for mob in self.mobjects])\n",
    "\n"
   ]
  },
  {
   "cell_type": "code",
   "execution_count": 6,
   "metadata": {},
   "outputs": [
    {
     "data": {
      "text/html": [
       "<pre style=\"white-space:pre;overflow-x:auto;line-height:normal;font-family:Menlo,'DejaVu Sans Mono',consolas,'Courier New',monospace\">Manim Community <span style=\"color: #008000; text-decoration-color: #008000\">v0.18.1</span>\n",
       "\n",
       "</pre>\n"
      ],
      "text/plain": [
       "Manim Community \u001b[32mv0.\u001b[0m\u001b[32m18.1\u001b[0m\n",
       "\n"
      ]
     },
     "metadata": {},
     "output_type": "display_data"
    },
    {
     "name": "stderr",
     "output_type": "stream",
     "text": [
      "                                                                                                                                                                                                                                                        \r"
     ]
    },
    {
     "data": {
      "text/html": [
       "<video src=\"media/jupyter/LazyMultitypeInterpreter@2024-08-01@12-32-29.mp4\" controls autoplay loop style=\"max-width: 60%;\"  >\n",
       "      Your browser does not support the <code>video</code> element.\n",
       "    </video>"
      ],
      "text/plain": [
       "<IPython.core.display.Video object>"
      ]
     },
     "metadata": {},
     "output_type": "display_data"
    }
   ],
   "source": [
    "%%manim -qm -v WARNING LazyMultitypeInterpreter\n",
    "## this is the ManimCE \"magic line\", which invokes Manim on the class below when it's invoked; \n",
    "# note the `-qm` arg sets medium quality, for faster rendering\n",
    "\n",
    "\n",
    "class LazyMultitypeInterpreter(MovingCameraScene):\n",
    "    def construct(self):\n",
    "\n",
    "        # slightly more complicated postfix tree\n",
    "        myItems = [ [ [ [ \":x2\", [ \":s1\", \":len\" ], \":sub\" ], \":x1\", \":mul\"], [ \":p1\", \":p2\", \":dist\" ], \":sub\" ], [ \":b1\", \":x1\", [ [ \":p1\", \":x-of\" ], [ \":p2\", \":y-of\" ], \":k1\", \":x2\", \":iflte\" ], \":ifelse\" ], \":pdiv\" ]\n",
    "\n",
    "        # there aren't going to be any missing arguments; it's a tree!\n",
    "        retainUnusedTokens = False \n",
    "\n",
    "        # you do have to specify all stacks here, explicitly\n",
    "        stacks = createEmptyStacks([\"exec\", \"number\", \"string\", \"bool\", \"point\"],retainUnusedTokens)\n",
    "\n",
    "        # set default screen location for handling PushItems\n",
    "        workbench = defaultWorkbench\n",
    "\n",
    "        # this time we're using the language defined in the 'pushTrees.py' module\n",
    "        language = defaultLanguage\n",
    "\n",
    "        ## begin animation \n",
    "\n",
    "        # construct assignments Mobject\n",
    "        assignments = Code(code=\"# assignments\\n:x1: Number\\t:x2: Number\\n:k1: Number\\t:k2: Number\\n:s1: String\\n:b1: Boolean\\n:p1: 2dPoint\\t:p2: 2dPoint\", \n",
    "                           insert_line_no = False, \n",
    "                           background='rectangle', \n",
    "                           style = \"monokai\",\n",
    "                           language=\"text\")\n",
    "        # display it\n",
    "        self.play(Create(assignments.scale(0.75).move_to(4.5*LEFT+3*UP).fade()))\n",
    "\n",
    "        # create the initial PushItem holding the entire tree\n",
    "        theCode = PushItem(myItems)\n",
    "        # prep for processing\n",
    "        theCode.mobject.move_to(workbench)\n",
    "        # draw the stack bases & labels\n",
    "        drawStackStages(self,stacks,retainUnusedTokens)\n",
    "        # show the listing\n",
    "        listing = showQuickListing(self,theCode,workbench+DOWN,previewScale=3)\n",
    "        self.wait(2)\n",
    "        self.play(FadeOut(listing))\n",
    "\n",
    "        # break up the initial codeblock PushItem (currently in workbench)\n",
    "        handleCodeblockInWorkbench(self,stacks,theCode,workbench) \n",
    "        # recursively handle everything on \"exec\" stack\n",
    "        processEveryItem(self,stacks,language,workbench,retainUnusedTokens)\n",
    "        self.wait(5)\n",
    "        \n",
    "        # grab top item on \"number stack\n",
    "        result = stacks[\"number\"][\"contents\"][-1]\n",
    "        # move it to the workbench\n",
    "        self.play(result.mobject.animate.move_to(workbench).scale_to_fit_height(1),run_time=slowTime)\n",
    "        quickCaptionUnderTile(self,result,\"final result\")\n",
    "        showQuickListing(self,theCode,workbench+DOWN,previewScale=3)\n",
    "\n",
    "        # prep for zooming\n",
    "        self.camera.frame.save_state()\n",
    "        # zoom in on the result item\n",
    "        self.play(self.camera.frame.animate.move_to(result.mobject.get_center()).scale(0.33))\n",
    "        self.wait(2)\n",
    "        self.play(Restore(self.camera.frame))\n",
    "        self.wait(2)\n",
    "        self.play(*[FadeOut(mob)for mob in self.mobjects])\n",
    "\n"
   ]
  }
 ],
 "metadata": {
  "kernelspec": {
   "display_name": "venv",
   "language": "python",
   "name": "python3"
  },
  "language_info": {
   "codemirror_mode": {
    "name": "ipython",
    "version": 3
   },
   "file_extension": ".py",
   "mimetype": "text/x-python",
   "name": "python",
   "nbconvert_exporter": "python",
   "pygments_lexer": "ipython3",
   "version": "3.12.4"
  }
 },
 "nbformat": 4,
 "nbformat_minor": 2
}
